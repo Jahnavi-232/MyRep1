{
  "cells": [
    {
      "cell_type": "markdown",
      "metadata": {
        "id": "view-in-github",
        "colab_type": "text"
      },
      "source": [
        "<a href=\"https://colab.research.google.com/github/Jahnavi-232/MyRep1/blob/main/Welcome_to_Colab.ipynb\" target=\"_parent\"><img src=\"https://colab.research.google.com/assets/colab-badge.svg\" alt=\"Open In Colab\"/></a>"
      ]
    },
    {
      "cell_type": "code",
      "source": [
        "import matplotlib.pyplot as plt\n",
        "import numpy as np\n",
        "import tensorflow as tf\n",
        "import pandas as pd\n",
        "from sklearn import preprocessing"
      ],
      "metadata": {
        "id": "kUszthfSfZBl"
      },
      "execution_count": 94,
      "outputs": []
    },
    {
      "cell_type": "code",
      "source": [
        "regression_type= 'LASSO'"
      ],
      "metadata": {
        "id": "XWwgJkqhfiWt"
      },
      "execution_count": 95,
      "outputs": []
    },
    {
      "cell_type": "code",
      "source": [
        "hp=pd.read_csv('/content/train.csv')\n",
        "hp.columns"
      ],
      "metadata": {
        "colab": {
          "base_uri": "https://localhost:8080/",
          "height": 0
        },
        "id": "i-IQRYAffnc3",
        "outputId": "39d8f29b-0c5c-4220-8dec-274581887155"
      },
      "execution_count": 96,
      "outputs": [
        {
          "output_type": "execute_result",
          "data": {
            "text/plain": [
              "Index(['Id', 'MSSubClass', 'MSZoning', 'LotFrontage', 'LotArea', 'Street',\n",
              "       'Alley', 'LotShape', 'LandContour', 'Utilities', 'LotConfig',\n",
              "       'LandSlope', 'Neighborhood', 'Condition1', 'Condition2', 'BldgType',\n",
              "       'HouseStyle', 'OverallQual', 'OverallCond', 'YearBuilt', 'YearRemodAdd',\n",
              "       'RoofStyle', 'RoofMatl', 'Exterior1st', 'Exterior2nd', 'MasVnrType',\n",
              "       'MasVnrArea', 'ExterQual', 'ExterCond', 'Foundation', 'BsmtQual',\n",
              "       'BsmtCond', 'BsmtExposure', 'BsmtFinType1', 'BsmtFinSF1',\n",
              "       'BsmtFinType2', 'BsmtFinSF2', 'BsmtUnfSF', 'TotalBsmtSF', 'Heating',\n",
              "       'HeatingQC', 'CentralAir', 'Electrical', '1stFlrSF', '2ndFlrSF',\n",
              "       'LowQualFinSF', 'GrLivArea', 'BsmtFullBath', 'BsmtHalfBath', 'FullBath',\n",
              "       'HalfBath', 'BedroomAbvGr', 'KitchenAbvGr', 'KitchenQual',\n",
              "       'TotRmsAbvGrd', 'Functional', 'Fireplaces', 'FireplaceQu', 'GarageType',\n",
              "       'GarageYrBlt', 'GarageFinish', 'GarageCars', 'GarageArea', 'GarageQual',\n",
              "       'GarageCond', 'PavedDrive', 'WoodDeckSF', 'OpenPorchSF',\n",
              "       'EnclosedPorch', '3SsnPorch', 'ScreenPorch', 'PoolArea', 'PoolQC',\n",
              "       'Fence', 'MiscFeature', 'MiscVal', 'MoSold', 'YrSold', 'SaleType',\n",
              "       'SaleCondition', 'SalePrice'],\n",
              "      dtype='object')"
            ]
          },
          "metadata": {},
          "execution_count": 96
        }
      ]
    },
    {
      "cell_type": "code",
      "source": [
        "hp_arr=hp[['YearBuilt','SalePrice']].to_numpy().astype('float64')\n",
        "hp_arr[:5]"
      ],
      "metadata": {
        "colab": {
          "base_uri": "https://localhost:8080/",
          "height": 0
        },
        "id": "uBnVHhFcfnAl",
        "outputId": "00419a7d-3612-42e5-eb93-73def076c489"
      },
      "execution_count": 97,
      "outputs": [
        {
          "output_type": "execute_result",
          "data": {
            "text/plain": [
              "array([[  2003., 208500.],\n",
              "       [  1976., 181500.],\n",
              "       [  2001., 223500.],\n",
              "       [  1915., 140000.],\n",
              "       [  2000., 250000.]])"
            ]
          },
          "metadata": {},
          "execution_count": 97
        }
      ]
    },
    {
      "cell_type": "code",
      "source": [
        "x_vals=np.array([x[0] for x in hp_arr]).reshape(-1,1)\n",
        "y_vals=np.array([y[1] for y in hp_arr]).reshape(-1,1)"
      ],
      "metadata": {
        "id": "Poorzg2igO6O"
      },
      "execution_count": 98,
      "outputs": []
    },
    {
      "cell_type": "code",
      "source": [
        "print(x_vals[:10])\n",
        "print(x_vals.shape)"
      ],
      "metadata": {
        "colab": {
          "base_uri": "https://localhost:8080/",
          "height": 0
        },
        "id": "baZx9lMJgRrQ",
        "outputId": "96f56f72-2d17-4294-b31a-cdd239793f5c"
      },
      "execution_count": 99,
      "outputs": [
        {
          "output_type": "stream",
          "name": "stdout",
          "text": [
            "[[2003.]\n",
            " [1976.]\n",
            " [2001.]\n",
            " [1915.]\n",
            " [2000.]\n",
            " [1993.]\n",
            " [2004.]\n",
            " [1973.]\n",
            " [1931.]\n",
            " [1939.]]\n",
            "(1460, 1)\n"
          ]
        }
      ]
    },
    {
      "cell_type": "code",
      "source": [
        "print(y_vals[:10])\n",
        "print(y_vals.shape)"
      ],
      "metadata": {
        "colab": {
          "base_uri": "https://localhost:8080/",
          "height": 0
        },
        "id": "H3IpTiAugWxK",
        "outputId": "629aeee9-b6c7-4881-9be3-6b7f324ce6a3"
      },
      "execution_count": 100,
      "outputs": [
        {
          "output_type": "stream",
          "name": "stdout",
          "text": [
            "[[208500.]\n",
            " [181500.]\n",
            " [223500.]\n",
            " [140000.]\n",
            " [250000.]\n",
            " [143000.]\n",
            " [307000.]\n",
            " [200000.]\n",
            " [129900.]\n",
            " [118000.]]\n",
            "(1460, 1)\n"
          ]
        }
      ]
    },
    {
      "cell_type": "code",
      "source": [
        "x_scaler = preprocessing.MinMaxScaler()\n",
        "y_scaler = preprocessing.MinMaxScaler()\n",
        "x_scaled = x_scaler.fit_transform(x_vals)\n"
      ],
      "metadata": {
        "id": "bTGf1CYOga4h"
      },
      "execution_count": 101,
      "outputs": []
    },
    {
      "cell_type": "code",
      "source": [
        "print(x_scaled[:10])\n",
        "print(x_scaled.shape)"
      ],
      "metadata": {
        "colab": {
          "base_uri": "https://localhost:8080/",
          "height": 0
        },
        "id": "RvWyW1ckhwAD",
        "outputId": "6589511f-aa34-4536-add6-4f86cad8f317"
      },
      "execution_count": 102,
      "outputs": [
        {
          "output_type": "stream",
          "name": "stdout",
          "text": [
            "[[0.94927536]\n",
            " [0.75362319]\n",
            " [0.93478261]\n",
            " [0.3115942 ]\n",
            " [0.92753623]\n",
            " [0.87681159]\n",
            " [0.95652174]\n",
            " [0.73188406]\n",
            " [0.42753623]\n",
            " [0.48550725]]\n",
            "(1460, 1)\n"
          ]
        }
      ]
    },
    {
      "cell_type": "code",
      "source": [
        "y_scaled = y_scaler.fit_transform(y_vals)\n",
        "y_scaled[:10]\n",
        "y_scaled.shape\n"
      ],
      "metadata": {
        "colab": {
          "base_uri": "https://localhost:8080/",
          "height": 0
        },
        "id": "5OFcDvmcg1jJ",
        "outputId": "39fb6346-82ac-4ce4-83c4-a4bd220f09e6"
      },
      "execution_count": 103,
      "outputs": [
        {
          "output_type": "execute_result",
          "data": {
            "text/plain": [
              "(1460, 1)"
            ]
          },
          "metadata": {},
          "execution_count": 103
        }
      ]
    },
    {
      "cell_type": "code",
      "source": [
        "print(y_scaled[:10])\n",
        "print(y_scaled.shape)"
      ],
      "metadata": {
        "colab": {
          "base_uri": "https://localhost:8080/",
          "height": 0
        },
        "id": "PPzy6AWYi7sH",
        "outputId": "059d863d-b326-44a6-8f45-d3d6e7d95328"
      },
      "execution_count": 104,
      "outputs": [
        {
          "output_type": "stream",
          "name": "stdout",
          "text": [
            "[[0.24107763]\n",
            " [0.20358284]\n",
            " [0.26190807]\n",
            " [0.14595195]\n",
            " [0.29870851]\n",
            " [0.15011804]\n",
            " [0.37786419]\n",
            " [0.22927371]\n",
            " [0.13192612]\n",
            " [0.11540064]]\n",
            "(1460, 1)\n"
          ]
        }
      ]
    },
    {
      "cell_type": "code",
      "source": [
        "x_scaled = x_scaled.flatten()\n",
        "print(x_scaled[:10])\n",
        "print(x_scaled.shape)\n"
      ],
      "metadata": {
        "colab": {
          "base_uri": "https://localhost:8080/",
          "height": 0
        },
        "id": "W7OM4n5njqZ3",
        "outputId": "24582608-1708-4466-ae3e-699ce7c36d62"
      },
      "execution_count": 105,
      "outputs": [
        {
          "output_type": "stream",
          "name": "stdout",
          "text": [
            "[0.94927536 0.75362319 0.93478261 0.3115942  0.92753623 0.87681159\n",
            " 0.95652174 0.73188406 0.42753623 0.48550725]\n",
            "(1460,)\n"
          ]
        }
      ]
    },
    {
      "cell_type": "code",
      "source": [
        "y_scaled = y_scaled.flatten()\n",
        "print(y_scaled[:10])\n",
        "print(y_scaled.shape)\n",
        "\n"
      ],
      "metadata": {
        "colab": {
          "base_uri": "https://localhost:8080/",
          "height": 0
        },
        "id": "cugh8HFDj2X-",
        "outputId": "333d7a26-ed5d-4e18-8212-962110e12300"
      },
      "execution_count": 106,
      "outputs": [
        {
          "output_type": "stream",
          "name": "stdout",
          "text": [
            "[0.24107763 0.20358284 0.26190807 0.14595195 0.29870851 0.15011804\n",
            " 0.37786419 0.22927371 0.13192612 0.11540064]\n",
            "(1460,)\n"
          ]
        }
      ]
    },
    {
      "cell_type": "code",
      "source": [
        "batch_size=50"
      ],
      "metadata": {
        "id": "qHj8apgHj6Gf"
      },
      "execution_count": 107,
      "outputs": []
    },
    {
      "cell_type": "code",
      "source": [
        "seed=13\n",
        "np.random.seed(seed)\n",
        "tf.random.set_seed(seed)"
      ],
      "metadata": {
        "id": "y7PakHHhkT7S"
      },
      "execution_count": 108,
      "outputs": []
    },
    {
      "cell_type": "code",
      "source": [
        "A=tf.Variable(tf.random.normal(shape=[1,1]),dtype='float32')\n",
        "B=tf.Variable(tf.random.normal(shape=[1,1]),dtype='float32')\n",
        "print(\"A=\",A.numpy())\n",
        "print(\"B=\",B.numpy())"
      ],
      "metadata": {
        "colab": {
          "base_uri": "https://localhost:8080/",
          "height": 0
        },
        "id": "WosicBO6keva",
        "outputId": "d8c2ac1b-ff87-46f4-850a-c6d2e092319b"
      },
      "execution_count": 109,
      "outputs": [
        {
          "output_type": "stream",
          "name": "stdout",
          "text": [
            "A= [[0.46733698]]\n",
            "B= [[-1.0572089]]\n"
          ]
        }
      ]
    },
    {
      "cell_type": "code",
      "source": [
        "def lasso_loss(y,o,a):\n",
        "  y = tf.cast(y, dtype=tf.float64)\n",
        "  o = tf.cast(o, dtype=tf.float64)\n",
        "  lasso_param=tf.constant(0.9,dtype='float64')\n",
        "  heavyside_step=tf.math.truediv(tf.constant(1.0, dtype=tf.float64),tf.math.add(tf.constant(1.0, dtype=tf.float64),tf.math.exp(tf.math.multiply(tf.constant(-3.0, dtype=tf.float64),tf.math.subtract(y,o)))))\n",
        "  regularization_param=tf.multiply(heavyside_step,tf.constant(99., dtype=tf.float64))\n",
        "  loss=tf.math.add(tf.math.reduce_mean(tf.square(y - o)),tf.reduce_mean(regularization_param))\n",
        "  return loss"
      ],
      "metadata": {
        "id": "MHkTRO3VlUPE"
      },
      "execution_count": 120,
      "outputs": []
    },
    {
      "cell_type": "code",
      "source": [
        "def ridege_loss(y,o,a):\n",
        "  ridge_param=tf.constant(1.,dtype='float64')\n",
        "  ridge_loss=tf.reduce_mean(tf.square(a))\n",
        "  loss=tf.add(tf.reduce_mean(tf.square(y - o)),tf.multiply(ridge_param,ridge_loss))\n",
        "  return loss"
      ],
      "metadata": {
        "id": "zPd6W_FGoqoi"
      },
      "execution_count": 121,
      "outputs": []
    },
    {
      "cell_type": "code",
      "source": [
        "my_opt=tf.keras.optimizers.SGD(0.001)"
      ],
      "metadata": {
        "id": "Lhm5mKMXpZqb"
      },
      "execution_count": 122,
      "outputs": []
    },
    {
      "cell_type": "code",
      "source": [
        "loss_vec=[]\n",
        "for i in range(3000):\n",
        "  rand_index=np.random.choice(len(x_vals),size=batch_size)\n",
        "  rand_x=np.transpose([x_scaled[rand_index]])\n",
        "  rand_y=np.transpose([y_scaled[rand_index]])\n",
        "  with tf.GradientTape() as tape:\n",
        "    model_output=tf.math.add(tf.matmul(tf.cast(rand_x, tf.float32),A),B)\n",
        "    if regression_type=='LASSO':\n",
        "      loss=lasso_loss(rand_y,model_output,A)\n",
        "    else:\n",
        "      loss=ridege_loss(rand_y,model_output,A)\n",
        "  grads=tape.gradient(loss,[A,B])\n",
        "  my_opt.apply_gradients(zip(grads,[A,B]))\n",
        "  loss_vec.append(loss.numpy())\n",
        "  if (i+1)%500==0:\n",
        "    print('Step #' + str(i+1) + ' A = ' + str(A.numpy()) + ' B = ' + str(B.numpy()))\n",
        "    print('Loss ='+str(loss.numpy()))\n",
        "    print('\\n')"
      ],
      "metadata": {
        "colab": {
          "base_uri": "https://localhost:8080/",
          "height": 0
        },
        "id": "d8zUSv_UsLsC",
        "outputId": "b735ec99-4b92-4824-b8fd-79add74950c4"
      },
      "execution_count": 125,
      "outputs": [
        {
          "output_type": "stream",
          "name": "stdout",
          "text": [
            "Step #500 A = [[0.27425075]] B = [[1.538887]]\n",
            "Loss =3.3681118850034464\n",
            "\n",
            "\n",
            "Step #1000 A = [[0.27608612]] B = [[1.5387795]]\n",
            "Loss =3.3681737597918175\n",
            "\n",
            "\n",
            "Step #1500 A = [[0.27494046]] B = [[1.5360751]]\n",
            "Loss =3.3754101490040638\n",
            "\n",
            "\n",
            "Step #2000 A = [[0.2764075]] B = [[1.5369314]]\n",
            "Loss =3.3824172843471727\n",
            "\n",
            "\n",
            "Step #2500 A = [[0.27809986]] B = [[1.5387312]]\n",
            "Loss =3.3946265890362746\n",
            "\n",
            "\n",
            "Step #3000 A = [[0.27596194]] B = [[1.5367538]]\n",
            "Loss =3.417313860829238\n",
            "\n",
            "\n"
          ]
        }
      ]
    },
    {
      "cell_type": "code",
      "source": [
        "slope=A.numpy()[0][0]\n",
        "y_intercept=B.numpy()[0][0]\n",
        "print('Slope = ' + str(slope))\n",
        "print('Y-intercept = ' + str(y_intercept))"
      ],
      "metadata": {
        "colab": {
          "base_uri": "https://localhost:8080/",
          "height": 0
        },
        "id": "jfi-30GMvTML",
        "outputId": "0892df2e-0041-41ef-eaa5-7530903a22c5"
      },
      "execution_count": 126,
      "outputs": [
        {
          "output_type": "stream",
          "name": "stdout",
          "text": [
            "Slope = 0.27596194\n",
            "Y-intercept = 1.5367538\n"
          ]
        }
      ]
    },
    {
      "cell_type": "code",
      "source": [
        "best_fit = []\n",
        "\n",
        "for i in x_scaled:\n",
        "\n",
        "  best_fit.append(slope*i+y_intercept)\n"
      ],
      "metadata": {
        "id": "NGEfhrnHva4g"
      },
      "execution_count": 128,
      "outputs": []
    },
    {
      "cell_type": "code",
      "source": [
        "pred = np.array(best_fit)\n",
        "\n",
        "pred[:10]\n"
      ],
      "metadata": {
        "colab": {
          "base_uri": "https://localhost:8080/",
          "height": 0
        },
        "id": "I8rSwfw4vafl",
        "outputId": "7a860d03-288a-4768-b0bd-a5def1d969ce"
      },
      "execution_count": 130,
      "outputs": [
        {
          "output_type": "execute_result",
          "data": {
            "text/plain": [
              "array([1.79871764, 1.74472509, 1.79471819, 1.62274191, 1.79271847,\n",
              "       1.7787204 , 1.80071736, 1.73872591, 1.6547375 , 1.67073529])"
            ]
          },
          "metadata": {},
          "execution_count": 130
        }
      ]
    },
    {
      "cell_type": "code",
      "source": [
        "pred=y_scaler.inverse_transform(pred.reshape(-1,1))\n",
        "\n",
        "pred = pred.flatten()\n",
        "\n",
        "pred[:10]"
      ],
      "metadata": {
        "colab": {
          "base_uri": "https://localhost:8080/",
          "height": 0
        },
        "id": "REmRQCoevaIE",
        "outputId": "fa6a23a5-1068-462f-8fbe-b25a5509207f"
      },
      "execution_count": 133,
      "outputs": [
        {
          "output_type": "execute_result",
          "data": {
            "text/plain": [
              "array([1330156.5725758 , 1291276.53544727, 1327276.56982554,\n",
              "       1203436.45156428, 1325836.56845041, 1315756.55882449,\n",
              "       1331596.57395093, 1286956.53132187, 1226476.47356637,\n",
              "       1237996.48456742])"
            ]
          },
          "metadata": {},
          "execution_count": 133
        }
      ]
    },
    {
      "cell_type": "code",
      "source": [
        "#Plot regression e against data points\n",
        "\n",
        "plt.plot(x_vals, y_vals, 'o', label='Data Points')\n",
        "\n",
        "plt.plot(x_vals, pred, 'r', label='Best fit line', linewidth=3)\n",
        "\n",
        "plt.legend (loc='upper left')\n",
        "\n",
        "plt.title('House Price vs Year Built')\n",
        "\n",
        "plt.xlabel('Year Built')\n",
        "\n",
        "plt.ylabel('House Price')\n",
        "\n",
        "plt.show()"
      ],
      "metadata": {
        "colab": {
          "base_uri": "https://localhost:8080/",
          "height": 472
        },
        "id": "U-jlY70gvZyD",
        "outputId": "d5df72a1-de93-4dda-a7ac-aabed13e7a8a"
      },
      "execution_count": 135,
      "outputs": [
        {
          "output_type": "display_data",
          "data": {
            "text/plain": [
              "<Figure size 640x480 with 1 Axes>"
            ],
            "image/png": "[encoded data removed]"
          },
          "metadata": {}
        }
      ]
    },
    {
      "cell_type": "code",
      "source": [
        "# Plot Loss over time\n",
        "\n",
        "plt.plot(loss_vec, 'k-')\n",
        "\n",
        "plt.title(regression_type +' Loss per Generation')\n",
        "\n",
        "plt.xlabel('Generation')\n",
        "\n",
        "plt.ylabel('Loss')\n",
        "\n",
        "plt.show()"
      ],
      "metadata": {
        "colab": {
          "base_uri": "https://localhost:8080/",
          "height": 472
        },
        "id": "hLJPj3VswgsA",
        "outputId": "7a18becc-82d1-4f74-a23d-af2410aea925"
      },
      "execution_count": 137,
      "outputs": [
        {
          "output_type": "display_data",
          "data": {
            "text/plain": [
              "<Figure size 640x480 with 1 Axes>"
            ],
            "image/png": "[encoded data removed]"
          },
          "metadata": {}
        }
      ]
    }
  ],
  "metadata": {
    "colab": {
      "name": "Welcome to Colab",
      "toc_visible": true,
      "provenance": [],
      "include_colab_link": true
    },
    "kernelspec": {
      "display_name": "Python 3",
      "name": "python3"
    }
  },
  "nbformat": 4,
  "nbformat_minor": 0
}